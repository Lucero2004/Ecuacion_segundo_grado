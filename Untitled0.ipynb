{
  "nbformat": 4,
  "nbformat_minor": 0,
  "metadata": {
    "colab": {
      "provenance": [],
      "authorship_tag": "ABX9TyMZgOkUSdHrC0TQ9ZqzGsMx",
      "include_colab_link": true
    },
    "kernelspec": {
      "name": "python3",
      "display_name": "Python 3"
    },
    "language_info": {
      "name": "python"
    }
  },
  "cells": [
    {
      "cell_type": "markdown",
      "metadata": {
        "id": "view-in-github",
        "colab_type": "text"
      },
      "source": [
        "<a href=\"https://colab.research.google.com/github/Lucero2004/Ecuacion_segundo_grado/blob/main/Untitled0.ipynb\" target=\"_parent\"><img src=\"https://colab.research.google.com/assets/colab-badge.svg\" alt=\"Open In Colab\"/></a>"
      ]
    },
    {
      "cell_type": "code",
      "execution_count": null,
      "metadata": {
        "id": "5OP7ofPMX4BK"
      },
      "outputs": [],
      "source": [
        "# creacion de listas usando el constructor list() sin parametros\n",
        "lista_3=list()\n",
        "print(lista_3)\n",
        "\n",
        "lista_4=list(range(10))\n",
        "print(lista_4)\n",
        "\n",
        "lista_5=list(\"UIS Socorro\")\n",
        "print(lista_5)\n",
        "\n",
        "frase=\"UIS no es uno, somos todos. Somos todos los que estamos en la lucha\"\n",
        "\n",
        "lista_6=frase.split()\n",
        "print(lista_6)\n",
        "\n",
        "\n",
        "\n"
      ]
    },
    {
      "cell_type": "code",
      "source": [
        "# funciones asociadas a las listas\n",
        "dias_laborables=[\"Lunes\",\"Martes\",\"Miercoles\",\"Jueves\",\"Viernes\"]\n",
        "colores_primarios=[\"rojo\",\"amarillo\",\"azul\"]\n",
        "pares=list(range(0,30,2))\n",
        "\n",
        "print(dias_laborables)\n",
        "dias_laborables.append(\"Sabado\")\n",
        "print(dias_laborables)\n",
        "print(f\"El lunes aparece{dias_laborables.count('Lunes')} veces\")\n",
        "\n",
        "#Agregar un elemento al principio de la lista\n",
        "colores_primarios.insert(0,'bllanco')\n",
        "print(colores_primarios)\n",
        "\n",
        "#quitar un elemnto de la lista\n",
        "dias_laborables.remove('Sabado')\n",
        "print(dias_laborables)"
      ],
      "metadata": {
        "id": "rFP7H1udfFOU"
      },
      "execution_count": null,
      "outputs": []
    },
    {
      "cell_type": "code",
      "source": [
        "empleados=[None]*3\n",
        "salarios=[None]*3\n",
        "prom_sal_empresa=0\n",
        "num_emo_mayor_prom=0\n",
        "#procesing\n",
        "for i in range(3):\n",
        "   empleados[i]=input(\"Digite el nombre del empleado:\")\n",
        "   salarios[i]=int(input(\"Digite el salario del empleado:\" ))\n",
        "   prom_sal_empesa=prom_sal_empresa + salarios[i]\n",
        "  \n",
        "prom_sal_empesa=prom_sal_empresa/len(empleados)\n",
        "\n",
        "for i in range(3):\n",
        "  if salarios[i]>prom_sal_empresa:\n",
        "    num_emo_mayor_prom+=1\n",
        "#output\n",
        "print(\"El numero de empleados que gana mas del promedio salarial es:\",num_emo_mayor_prom)\n",
        "\n"
      ],
      "metadata": {
        "id": "5bKAbzhdg8_s"
      },
      "execution_count": null,
      "outputs": []
    },
    {
      "cell_type": "markdown",
      "source": [
        "EJERCICIOS ARREGLOS\n",
        "1. Hacer un programa en python que lea un vector A de n elemnetos, que averigue e imprima cual es el mayor elemeno y en que posicion se encuentran\n",
        "\n",
        "2. La norma de un vector esta representada como la raiz de la suma de sus elementos elevados al cuadrado. Hacer un prograa en python que calcule la magnitud o norma de un vector.\n",
        "\n",
        "3. Sea u=(x,y), v=(A,B). El producto punto entre u y v esta dada por el producto del primer elemento de u por el primer elemento de v + el producto del segundo elemento de u y el segundo elemento de v.En caso de ver mas elementos se continua esta metodologia sucesivamente.Hacer un programa en python que calcule el producto punto de 2 vectores.\n"
      ],
      "metadata": {
        "id": "EWc3KWWcVoc-"
      }
    },
    {
      "cell_type": "code",
      "source": [
        "54# 1\n",
        "\n",
        "vector =[None]*3\n",
        "\n",
        "for i in range (3):\n",
        "  vector_q=int(input(\"Digite el numero del vector: \"))\n",
        "  vector[i]=vector_q\n",
        " \n",
        "def num_mayor(vector):\n",
        "    num_mayor=vector[0]\n",
        "    for x in vector:\n",
        "      if x > num_mayor:\n",
        "        num_mayor= x\n",
        "    return num_mayor\n",
        "posicion= vector.index(num_mayor(vector))\n",
        "   \n",
        "\n",
        "print(\"El numero mayor es:\"+str(num_mayor(vector)))\n",
        "print(\"La posicion de numero mayor es:\"+str(posicion))"
      ],
      "metadata": {
        "id": "V5ql9fPTXS8b"
      },
      "execution_count": null,
      "outputs": []
    },
    {
      "cell_type": "code",
      "source": [
        "import math\n",
        "\n",
        "vector=[None]*3\n",
        "\n",
        "for i in range (3):\n",
        "   vector_a = int(input(\"Dame el valor de un numero del vector: \"))\n",
        "   vector[i]=vector_a\n",
        "\n",
        "def hallar_norma (vector):\n",
        "    norma_v = vector[0]\n",
        "    norma_v= math.sqrt(sum(x**2  for x in vector ))\n",
        "    return norma_v\n",
        "print(\"la norma del vector es:\" + str(hallar_norma(vector)))\n",
        "\n"
      ],
      "metadata": {
        "id": "I_WBYWJMXycM"
      },
      "execution_count": null,
      "outputs": []
    },
    {
      "cell_type": "code",
      "source": [
        "#matriz\n",
        "print(\"Calculadora de matrices\")\n",
        "def dibujar_matriz(M):\n",
        "  for i in range (len(M))\n",
        "  "
      ],
      "metadata": {
        "id": "PWiar432pRPl"
      },
      "execution_count": null,
      "outputs": []
    },
    {
      "cell_type": "code",
      "source": [
        "\n",
        "n = int(input(\"Escriba el tamaño de la matriz: \"))\n",
        "vector_b = [None]*n\n",
        "vector_c = [None]*n\n",
        "vector_t = [None]*n\n",
        "producto = 0\n",
        "for i in range(n):\n",
        "  a = int(input(\"Dame un elemento del vector 1: \"))\n",
        "  vector_b[i] = a\n",
        "  a = int(input(\"Dame un elemento del vector 2: \"))\n",
        "  vector_c[i] = a\n",
        "  vector_t[i] = vector_c[i] * vector_b[i]\n",
        "  producto += vector_t[i] \n",
        "\n",
        "print(\"El vector 1 es: \",vector_b)\n",
        "print(\"El vector 2 es: \",vector_c)\n",
        "print(\"El producto es: \",producto)"
      ],
      "metadata": {
        "id": "xz45q4t6dzI2"
      },
      "execution_count": null,
      "outputs": []
    }
  ]
}